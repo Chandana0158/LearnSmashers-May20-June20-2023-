{
 "cells": [
  {
   "cell_type": "markdown",
   "id": "d67b4722",
   "metadata": {},
   "source": [
    "# Task 2. Netflix Data Analysis "
   ]
  },
  {
   "cell_type": "markdown",
   "id": "6c7bca58",
   "metadata": {},
   "source": [
    "## Analyzing the Netflix data on the basis of ratings on Netflix. Using piechart to show the analysis."
   ]
  },
  {
   "cell_type": "code",
   "execution_count": 1,
   "id": "5b293289",
   "metadata": {},
   "outputs": [],
   "source": [
    "# Importing necessary libraries\n",
    "\n",
    "import numpy as np\n",
    "import pandas as pd\n",
    "import matplotlib.pyplot as plt\n",
    "import seaborn as sns"
   ]
  },
  {
   "cell_type": "code",
   "execution_count": 2,
   "id": "0ecf3f53",
   "metadata": {},
   "outputs": [
    {
     "name": "stdout",
     "output_type": "stream",
     "text": [
      "  show_id     type                  title         director  \\\n",
      "0      s1    Movie   Dick Johnson Is Dead  Kirsten Johnson   \n",
      "1      s2  TV Show          Blood & Water              NaN   \n",
      "2      s3  TV Show              Ganglands  Julien Leclercq   \n",
      "3      s4  TV Show  Jailbirds New Orleans              NaN   \n",
      "4      s5  TV Show           Kota Factory              NaN   \n",
      "\n",
      "                                                cast        country  \\\n",
      "0                                                NaN  United States   \n",
      "1  Ama Qamata, Khosi Ngema, Gail Mabalane, Thaban...   South Africa   \n",
      "2  Sami Bouajila, Tracy Gotoas, Samuel Jouy, Nabi...            NaN   \n",
      "3                                                NaN            NaN   \n",
      "4  Mayur More, Jitendra Kumar, Ranjan Raj, Alam K...          India   \n",
      "\n",
      "           date_added  release_year rating   duration  \\\n",
      "0  September 25, 2021          2020  PG-13     90 min   \n",
      "1  September 24, 2021          2021  TV-MA  2 Seasons   \n",
      "2  September 24, 2021          2021  TV-MA   1 Season   \n",
      "3  September 24, 2021          2021  TV-MA   1 Season   \n",
      "4  September 24, 2021          2021  TV-MA  2 Seasons   \n",
      "\n",
      "                                           listed_in  \\\n",
      "0                                      Documentaries   \n",
      "1    International TV Shows, TV Dramas, TV Mysteries   \n",
      "2  Crime TV Shows, International TV Shows, TV Act...   \n",
      "3                             Docuseries, Reality TV   \n",
      "4  International TV Shows, Romantic TV Shows, TV ...   \n",
      "\n",
      "                                         description  \n",
      "0  As her father nears the end of his life, filmm...  \n",
      "1  After crossing paths at a party, a Cape Town t...  \n",
      "2  To protect his family from a powerful drug lor...  \n",
      "3  Feuds, flirtations and toilet talk go down amo...  \n",
      "4  In a city of coaching centers known to train I...  \n"
     ]
    }
   ],
   "source": [
    "# Importing the dataset and displacing the first five lines of the dataset\n",
    "\n",
    "data = pd.read_csv(\"netflix_titles.csv\")\n",
    "print(data.head())"
   ]
  },
  {
   "cell_type": "code",
   "execution_count": 3,
   "id": "6d60dd5a",
   "metadata": {},
   "outputs": [
    {
     "data": {
      "text/plain": [
       "(8807, 12)"
      ]
     },
     "execution_count": 3,
     "metadata": {},
     "output_type": "execute_result"
    }
   ],
   "source": [
    "# Shape of the data\n",
    "\n",
    "data.shape"
   ]
  },
  {
   "cell_type": "code",
   "execution_count": 4,
   "id": "b2bca9e3",
   "metadata": {},
   "outputs": [
    {
     "data": {
      "text/plain": [
       "Index(['show_id', 'type', 'title', 'director', 'cast', 'country', 'date_added',\n",
       "       'release_year', 'rating', 'duration', 'listed_in', 'description'],\n",
       "      dtype='object')"
      ]
     },
     "execution_count": 4,
     "metadata": {},
     "output_type": "execute_result"
    }
   ],
   "source": [
    "data.columns"
   ]
  },
  {
   "cell_type": "code",
   "execution_count": 5,
   "id": "b73ca36e",
   "metadata": {},
   "outputs": [
    {
     "data": {
      "text/html": [
       "<div>\n",
       "<style scoped>\n",
       "    .dataframe tbody tr th:only-of-type {\n",
       "        vertical-align: middle;\n",
       "    }\n",
       "\n",
       "    .dataframe tbody tr th {\n",
       "        vertical-align: top;\n",
       "    }\n",
       "\n",
       "    .dataframe thead th {\n",
       "        text-align: right;\n",
       "    }\n",
       "</style>\n",
       "<table border=\"1\" class=\"dataframe\">\n",
       "  <thead>\n",
       "    <tr style=\"text-align: right;\">\n",
       "      <th></th>\n",
       "      <th>release_year</th>\n",
       "    </tr>\n",
       "  </thead>\n",
       "  <tbody>\n",
       "    <tr>\n",
       "      <th>count</th>\n",
       "      <td>8807.000000</td>\n",
       "    </tr>\n",
       "    <tr>\n",
       "      <th>mean</th>\n",
       "      <td>2014.180198</td>\n",
       "    </tr>\n",
       "    <tr>\n",
       "      <th>std</th>\n",
       "      <td>8.819312</td>\n",
       "    </tr>\n",
       "    <tr>\n",
       "      <th>min</th>\n",
       "      <td>1925.000000</td>\n",
       "    </tr>\n",
       "    <tr>\n",
       "      <th>25%</th>\n",
       "      <td>2013.000000</td>\n",
       "    </tr>\n",
       "    <tr>\n",
       "      <th>50%</th>\n",
       "      <td>2017.000000</td>\n",
       "    </tr>\n",
       "    <tr>\n",
       "      <th>75%</th>\n",
       "      <td>2019.000000</td>\n",
       "    </tr>\n",
       "    <tr>\n",
       "      <th>max</th>\n",
       "      <td>2021.000000</td>\n",
       "    </tr>\n",
       "  </tbody>\n",
       "</table>\n",
       "</div>"
      ],
      "text/plain": [
       "       release_year\n",
       "count   8807.000000\n",
       "mean    2014.180198\n",
       "std        8.819312\n",
       "min     1925.000000\n",
       "25%     2013.000000\n",
       "50%     2017.000000\n",
       "75%     2019.000000\n",
       "max     2021.000000"
      ]
     },
     "execution_count": 5,
     "metadata": {},
     "output_type": "execute_result"
    }
   ],
   "source": [
    "# Statistical values\n",
    "\n",
    "data.describe()"
   ]
  },
  {
   "cell_type": "code",
   "execution_count": 6,
   "id": "28538a3c",
   "metadata": {},
   "outputs": [
    {
     "name": "stdout",
     "output_type": "stream",
     "text": [
      "<class 'pandas.core.frame.DataFrame'>\n",
      "RangeIndex: 8807 entries, 0 to 8806\n",
      "Data columns (total 12 columns):\n",
      " #   Column        Non-Null Count  Dtype \n",
      "---  ------        --------------  ----- \n",
      " 0   show_id       8807 non-null   object\n",
      " 1   type          8807 non-null   object\n",
      " 2   title         8807 non-null   object\n",
      " 3   director      6173 non-null   object\n",
      " 4   cast          7982 non-null   object\n",
      " 5   country       7976 non-null   object\n",
      " 6   date_added    8797 non-null   object\n",
      " 7   release_year  8807 non-null   int64 \n",
      " 8   rating        8803 non-null   object\n",
      " 9   duration      8804 non-null   object\n",
      " 10  listed_in     8807 non-null   object\n",
      " 11  description   8807 non-null   object\n",
      "dtypes: int64(1), object(11)\n",
      "memory usage: 825.8+ KB\n"
     ]
    }
   ],
   "source": [
    "data.info()"
   ]
  },
  {
   "cell_type": "code",
   "execution_count": 7,
   "id": "36fce0c4",
   "metadata": {},
   "outputs": [
    {
     "data": {
      "text/plain": [
       "show_id            0\n",
       "type               0\n",
       "title              0\n",
       "director        2634\n",
       "cast             825\n",
       "country          831\n",
       "date_added        10\n",
       "release_year       0\n",
       "rating             4\n",
       "duration           3\n",
       "listed_in          0\n",
       "description        0\n",
       "dtype: int64"
      ]
     },
     "execution_count": 7,
     "metadata": {},
     "output_type": "execute_result"
    }
   ],
   "source": [
    "# checking for the null values\n",
    "\n",
    "data.isnull().sum()"
   ]
  },
  {
   "cell_type": "code",
   "execution_count": 8,
   "id": "990f305d",
   "metadata": {},
   "outputs": [
    {
     "data": {
      "text/plain": [
       "show_id         8807\n",
       "type               2\n",
       "title           8807\n",
       "director        4528\n",
       "cast            7692\n",
       "country          748\n",
       "date_added      1767\n",
       "release_year      74\n",
       "rating            17\n",
       "duration         220\n",
       "listed_in        514\n",
       "description     8775\n",
       "dtype: int64"
      ]
     },
     "execution_count": 8,
     "metadata": {},
     "output_type": "execute_result"
    }
   ],
   "source": [
    "# Check unique values\n",
    "\n",
    "data.nunique()"
   ]
  },
  {
   "cell_type": "code",
   "execution_count": 9,
   "id": "d04e7924",
   "metadata": {},
   "outputs": [
    {
     "data": {
      "text/plain": [
       "0"
      ]
     },
     "execution_count": 9,
     "metadata": {},
     "output_type": "execute_result"
    }
   ],
   "source": [
    "# Check for duplicate\n",
    "\n",
    "data.duplicated().sum()"
   ]
  },
  {
   "cell_type": "code",
   "execution_count": 10,
   "id": "0d0852ec",
   "metadata": {},
   "outputs": [],
   "source": [
    "# Make a copy of the dataset\n",
    "\n",
    "df = data.copy()"
   ]
  },
  {
   "cell_type": "code",
   "execution_count": 11,
   "id": "fb899715",
   "metadata": {},
   "outputs": [
    {
     "data": {
      "text/plain": [
       "(8807, 12)"
      ]
     },
     "execution_count": 11,
     "metadata": {},
     "output_type": "execute_result"
    }
   ],
   "source": [
    "df.shape"
   ]
  },
  {
   "cell_type": "code",
   "execution_count": 12,
   "id": "2d5e6ac1",
   "metadata": {},
   "outputs": [
    {
     "data": {
      "text/plain": [
       "(5332, 12)"
      ]
     },
     "execution_count": 12,
     "metadata": {},
     "output_type": "execute_result"
    }
   ],
   "source": [
    "# Drop NULL values\n",
    "\n",
    "df=df.dropna()\n",
    "df.shape"
   ]
  },
  {
   "cell_type": "code",
   "execution_count": 13,
   "id": "dfd720d3",
   "metadata": {},
   "outputs": [],
   "source": [
    "#Convert Date Time format\n",
    "\n",
    "df[\"date_added\"] = pd.to_datetime(df['date_added'])\n",
    "df['day_added'] = df['date_added'].dt.day\n",
    "df['year_added'] = df['date_added'].dt.year\n",
    "df['month_added']=df['date_added'].dt.month\n",
    "df['year_added'].astype(int);\n",
    "df['day_added'].astype(int);"
   ]
  },
  {
   "cell_type": "code",
   "execution_count": 14,
   "id": "57579548",
   "metadata": {},
   "outputs": [
    {
     "data": {
      "text/html": [
       "<div>\n",
       "<style scoped>\n",
       "    .dataframe tbody tr th:only-of-type {\n",
       "        vertical-align: middle;\n",
       "    }\n",
       "\n",
       "    .dataframe tbody tr th {\n",
       "        vertical-align: top;\n",
       "    }\n",
       "\n",
       "    .dataframe thead th {\n",
       "        text-align: right;\n",
       "    }\n",
       "</style>\n",
       "<table border=\"1\" class=\"dataframe\">\n",
       "  <thead>\n",
       "    <tr style=\"text-align: right;\">\n",
       "      <th></th>\n",
       "      <th>show_id</th>\n",
       "      <th>type</th>\n",
       "      <th>title</th>\n",
       "      <th>director</th>\n",
       "      <th>cast</th>\n",
       "      <th>country</th>\n",
       "      <th>date_added</th>\n",
       "      <th>release_year</th>\n",
       "      <th>rating</th>\n",
       "      <th>duration</th>\n",
       "      <th>listed_in</th>\n",
       "      <th>description</th>\n",
       "      <th>day_added</th>\n",
       "      <th>year_added</th>\n",
       "      <th>month_added</th>\n",
       "    </tr>\n",
       "  </thead>\n",
       "  <tbody>\n",
       "    <tr>\n",
       "      <th>7</th>\n",
       "      <td>s8</td>\n",
       "      <td>Movie</td>\n",
       "      <td>Sankofa</td>\n",
       "      <td>Haile Gerima</td>\n",
       "      <td>Kofi Ghanaba, Oyafunmike Ogunlano, Alexandra D...</td>\n",
       "      <td>United States, Ghana, Burkina Faso, United Kin...</td>\n",
       "      <td>2021-09-24</td>\n",
       "      <td>1993</td>\n",
       "      <td>TV-MA</td>\n",
       "      <td>125 min</td>\n",
       "      <td>Dramas, Independent Movies, International Movies</td>\n",
       "      <td>On a photo shoot in Ghana, an American model s...</td>\n",
       "      <td>24</td>\n",
       "      <td>2021</td>\n",
       "      <td>9</td>\n",
       "    </tr>\n",
       "    <tr>\n",
       "      <th>8</th>\n",
       "      <td>s9</td>\n",
       "      <td>TV Show</td>\n",
       "      <td>The Great British Baking Show</td>\n",
       "      <td>Andy Devonshire</td>\n",
       "      <td>Mel Giedroyc, Sue Perkins, Mary Berry, Paul Ho...</td>\n",
       "      <td>United Kingdom</td>\n",
       "      <td>2021-09-24</td>\n",
       "      <td>2021</td>\n",
       "      <td>TV-14</td>\n",
       "      <td>9 Seasons</td>\n",
       "      <td>British TV Shows, Reality TV</td>\n",
       "      <td>A talented batch of amateur bakers face off in...</td>\n",
       "      <td>24</td>\n",
       "      <td>2021</td>\n",
       "      <td>9</td>\n",
       "    </tr>\n",
       "    <tr>\n",
       "      <th>9</th>\n",
       "      <td>s10</td>\n",
       "      <td>Movie</td>\n",
       "      <td>The Starling</td>\n",
       "      <td>Theodore Melfi</td>\n",
       "      <td>Melissa McCarthy, Chris O'Dowd, Kevin Kline, T...</td>\n",
       "      <td>United States</td>\n",
       "      <td>2021-09-24</td>\n",
       "      <td>2021</td>\n",
       "      <td>PG-13</td>\n",
       "      <td>104 min</td>\n",
       "      <td>Comedies, Dramas</td>\n",
       "      <td>A woman adjusting to life after a loss contend...</td>\n",
       "      <td>24</td>\n",
       "      <td>2021</td>\n",
       "      <td>9</td>\n",
       "    </tr>\n",
       "    <tr>\n",
       "      <th>12</th>\n",
       "      <td>s13</td>\n",
       "      <td>Movie</td>\n",
       "      <td>Je Suis Karl</td>\n",
       "      <td>Christian Schwochow</td>\n",
       "      <td>Luna Wedler, Jannis Niewöhner, Milan Peschel, ...</td>\n",
       "      <td>Germany, Czech Republic</td>\n",
       "      <td>2021-09-23</td>\n",
       "      <td>2021</td>\n",
       "      <td>TV-MA</td>\n",
       "      <td>127 min</td>\n",
       "      <td>Dramas, International Movies</td>\n",
       "      <td>After most of her family is murdered in a terr...</td>\n",
       "      <td>23</td>\n",
       "      <td>2021</td>\n",
       "      <td>9</td>\n",
       "    </tr>\n",
       "    <tr>\n",
       "      <th>24</th>\n",
       "      <td>s25</td>\n",
       "      <td>Movie</td>\n",
       "      <td>Jeans</td>\n",
       "      <td>S. Shankar</td>\n",
       "      <td>Prashanth, Aishwarya Rai Bachchan, Sri Lakshmi...</td>\n",
       "      <td>India</td>\n",
       "      <td>2021-09-21</td>\n",
       "      <td>1998</td>\n",
       "      <td>TV-14</td>\n",
       "      <td>166 min</td>\n",
       "      <td>Comedies, International Movies, Romantic Movies</td>\n",
       "      <td>When the father of the man she loves insists t...</td>\n",
       "      <td>21</td>\n",
       "      <td>2021</td>\n",
       "      <td>9</td>\n",
       "    </tr>\n",
       "  </tbody>\n",
       "</table>\n",
       "</div>"
      ],
      "text/plain": [
       "   show_id     type                          title             director  \\\n",
       "7       s8    Movie                        Sankofa         Haile Gerima   \n",
       "8       s9  TV Show  The Great British Baking Show      Andy Devonshire   \n",
       "9      s10    Movie                   The Starling       Theodore Melfi   \n",
       "12     s13    Movie                   Je Suis Karl  Christian Schwochow   \n",
       "24     s25    Movie                          Jeans           S. Shankar   \n",
       "\n",
       "                                                 cast  \\\n",
       "7   Kofi Ghanaba, Oyafunmike Ogunlano, Alexandra D...   \n",
       "8   Mel Giedroyc, Sue Perkins, Mary Berry, Paul Ho...   \n",
       "9   Melissa McCarthy, Chris O'Dowd, Kevin Kline, T...   \n",
       "12  Luna Wedler, Jannis Niewöhner, Milan Peschel, ...   \n",
       "24  Prashanth, Aishwarya Rai Bachchan, Sri Lakshmi...   \n",
       "\n",
       "                                              country date_added  \\\n",
       "7   United States, Ghana, Burkina Faso, United Kin... 2021-09-24   \n",
       "8                                      United Kingdom 2021-09-24   \n",
       "9                                       United States 2021-09-24   \n",
       "12                            Germany, Czech Republic 2021-09-23   \n",
       "24                                              India 2021-09-21   \n",
       "\n",
       "    release_year rating   duration  \\\n",
       "7           1993  TV-MA    125 min   \n",
       "8           2021  TV-14  9 Seasons   \n",
       "9           2021  PG-13    104 min   \n",
       "12          2021  TV-MA    127 min   \n",
       "24          1998  TV-14    166 min   \n",
       "\n",
       "                                           listed_in  \\\n",
       "7   Dramas, Independent Movies, International Movies   \n",
       "8                       British TV Shows, Reality TV   \n",
       "9                                   Comedies, Dramas   \n",
       "12                      Dramas, International Movies   \n",
       "24   Comedies, International Movies, Romantic Movies   \n",
       "\n",
       "                                          description  day_added  year_added  \\\n",
       "7   On a photo shoot in Ghana, an American model s...         24        2021   \n",
       "8   A talented batch of amateur bakers face off in...         24        2021   \n",
       "9   A woman adjusting to life after a loss contend...         24        2021   \n",
       "12  After most of her family is murdered in a terr...         23        2021   \n",
       "24  When the father of the man she loves insists t...         21        2021   \n",
       "\n",
       "    month_added  \n",
       "7             9  \n",
       "8             9  \n",
       "9             9  \n",
       "12            9  \n",
       "24            9  "
      ]
     },
     "execution_count": 14,
     "metadata": {},
     "output_type": "execute_result"
    }
   ],
   "source": [
    "df.head()"
   ]
  },
  {
   "cell_type": "markdown",
   "id": "d33d7b33",
   "metadata": {},
   "source": [
    "## Data Visualization"
   ]
  },
  {
   "cell_type": "markdown",
   "id": "4a2817f3",
   "metadata": {},
   "source": [
    "### Pie-chart for the Type: Movie and TV Shows "
   ]
  },
  {
   "cell_type": "code",
   "execution_count": 15,
   "id": "a4e7988d",
   "metadata": {},
   "outputs": [
    {
     "data": {
      "image/png": "[encoded data removed]",
      "text/plain": [
       "<Figure size 600x600 with 1 Axes>"
      ]
     },
     "metadata": {},
     "output_type": "display_data"
    }
   ],
   "source": [
    "labels = ['Movie', 'TV show']\n",
    "size = data['type'].value_counts()\n",
    "colors = plt.cm.Wistia(np.linspace(0, 1, 2))\n",
    "explode = [0, 0.1]\n",
    "plt.rcParams['figure.figsize'] = (6, 6)\n",
    "plt.pie(size,labels=labels, colors = colors, explode = explode, shadow = True, startangle = 90)\n",
    "plt.title('Distribution of Type', fontsize = 25)\n",
    "plt.legend()\n",
    "plt.show()"
   ]
  },
  {
   "cell_type": "markdown",
   "id": "42105bf0",
   "metadata": {},
   "source": [
    "### Pie-chart for Rating"
   ]
  },
  {
   "cell_type": "code",
   "execution_count": 16,
   "id": "ac07e905",
   "metadata": {},
   "outputs": [
    {
     "data": {
      "image/png": "[encoded data removed]",
      "text/plain": [
       "<Figure size 800x600 with 1 Axes>"
      ]
     },
     "metadata": {},
     "output_type": "display_data"
    }
   ],
   "source": [
    "data['rating'].value_counts().plot.pie(autopct='%1.1f%%',shadow=True,figsize=(8,6))\n",
    "plt.show()"
   ]
  }
 ],
 "metadata": {
  "kernelspec": {
   "display_name": "Python 3 (ipykernel)",
   "language": "python",
   "name": "python3"
  },
  "language_info": {
   "codemirror_mode": {
    "name": "ipython",
    "version": 3
   },
   "file_extension": ".py",
   "mimetype": "text/x-python",
   "name": "python",
   "nbconvert_exporter": "python",
   "pygments_lexer": "ipython3",
   "version": "3.9.13"
  }
 },
 "nbformat": 4,
 "nbformat_minor": 5
}
